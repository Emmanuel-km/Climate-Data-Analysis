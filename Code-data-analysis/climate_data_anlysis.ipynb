{
 "cells": [
  {
   "cell_type": "code",
   "execution_count": 2,
   "id": "2ec17386",
   "metadata": {},
   "outputs": [
    {
     "name": "stdout",
     "output_type": "stream",
     "text": [
      "import successsfull\n"
     ]
    }
   ],
   "source": [
    "\n",
    "#importing required libraries and more\n",
    "import pandas as pd\n",
    "import matplotlib.pyplot as plt\n",
    "import seaborn as sns\n",
    "\n",
    "#checking out if it all is well\n",
    "print(\"import successsfull\")"
   ]
  },
  {
   "cell_type": "code",
   "execution_count": 17,
   "id": "329e2c65",
   "metadata": {},
   "outputs": [
    {
     "name": "stdout",
     "output_type": "stream",
     "text": [
      "data loaded successfully\n"
     ]
    }
   ],
   "source": [
    "df=pd.read_csv('../resource/owid-co2-data-1750-2023.csv')\n",
    "print(\"data loaded successfully\")"
   ]
  },
  {
   "cell_type": "code",
   "execution_count": 18,
   "id": "4f6b9b0d",
   "metadata": {},
   "outputs": [
    {
     "name": "stdout",
     "output_type": "stream",
     "text": [
      "<class 'pandas.core.frame.DataFrame'>\n",
      "RangeIndex: 50191 entries, 0 to 50190\n",
      "Data columns (total 79 columns):\n",
      " #   Column                                     Non-Null Count  Dtype  \n",
      "---  ------                                     --------------  -----  \n",
      " 0   country                                    50191 non-null  object \n",
      " 1   year                                       50191 non-null  int64  \n",
      " 2   iso_code                                   42262 non-null  object \n",
      " 3   population                                 41019 non-null  float64\n",
      " 4   gdp                                        15251 non-null  float64\n",
      " 5   cement_co2                                 28863 non-null  float64\n",
      " 6   cement_co2_per_capita                      25358 non-null  float64\n",
      " 7   co2                                        29137 non-null  float64\n",
      " 8   co2_growth_abs                             26981 non-null  float64\n",
      " 9   co2_growth_prct                            26002 non-null  float64\n",
      " 10  co2_including_luc                          23585 non-null  float64\n",
      " 11  co2_including_luc_growth_abs               23285 non-null  float64\n",
      " 12  co2_including_luc_growth_prct              23285 non-null  float64\n",
      " 13  co2_including_luc_per_capita               23495 non-null  float64\n",
      " 14  co2_including_luc_per_gdp                  16790 non-null  float64\n",
      " 15  co2_including_luc_per_unit_energy          9701 non-null   float64\n",
      " 16  co2_per_capita                             26182 non-null  float64\n",
      " 17  co2_per_gdp                                17528 non-null  float64\n",
      " 18  co2_per_unit_energy                        10350 non-null  float64\n",
      " 19  coal_co2                                   21755 non-null  float64\n",
      " 20  coal_co2_per_capita                        21050 non-null  float64\n",
      " 21  consumption_co2                            4866 non-null   float64\n",
      " 22  consumption_co2_per_capita                 4502 non-null   float64\n",
      " 23  consumption_co2_per_gdp                    4444 non-null   float64\n",
      " 24  cumulative_cement_co2                      28841 non-null  float64\n",
      " 25  cumulative_co2                             27328 non-null  float64\n",
      " 26  cumulative_co2_including_luc               23585 non-null  float64\n",
      " 27  cumulative_coal_co2                        21755 non-null  float64\n",
      " 28  cumulative_flaring_co2                     15891 non-null  float64\n",
      " 29  cumulative_gas_co2                         18014 non-null  float64\n",
      " 30  cumulative_luc_co2                         37236 non-null  float64\n",
      " 31  cumulative_oil_co2                         25217 non-null  float64\n",
      " 32  cumulative_other_co2                       3202 non-null   float64\n",
      " 33  energy_per_capita                          10109 non-null  float64\n",
      " 34  energy_per_gdp                             7696 non-null   float64\n",
      " 35  flaring_co2                                15952 non-null  float64\n",
      " 36  flaring_co2_per_capita                     14694 non-null  float64\n",
      " 37  gas_co2                                    18014 non-null  float64\n",
      " 38  gas_co2_per_capita                         17292 non-null  float64\n",
      " 39  ghg_excluding_lucf_per_capita              35639 non-null  float64\n",
      " 40  ghg_per_capita                             35813 non-null  float64\n",
      " 41  land_use_change_co2                        37236 non-null  float64\n",
      " 42  land_use_change_co2_per_capita             36434 non-null  float64\n",
      " 43  methane                                    37410 non-null  float64\n",
      " 44  methane_per_capita                         35813 non-null  float64\n",
      " 45  nitrous_oxide                              38280 non-null  float64\n",
      " 46  nitrous_oxide_per_capita                   36320 non-null  float64\n",
      " 47  oil_co2                                    25218 non-null  float64\n",
      " 48  oil_co2_per_capita                         24436 non-null  float64\n",
      " 49  other_co2_per_capita                       2474 non-null   float64\n",
      " 50  other_industry_co2                         3202 non-null   float64\n",
      " 51  primary_energy_consumption                 10151 non-null  float64\n",
      " 52  share_global_cement_co2                    21960 non-null  float64\n",
      " 53  share_global_co2                           27328 non-null  float64\n",
      " 54  share_global_co2_including_luc             23585 non-null  float64\n",
      " 55  share_global_coal_co2                      21755 non-null  float64\n",
      " 56  share_global_cumulative_cement_co2         21960 non-null  float64\n",
      " 57  share_global_cumulative_co2                27328 non-null  float64\n",
      " 58  share_global_cumulative_co2_including_luc  23585 non-null  float64\n",
      " 59  share_global_cumulative_coal_co2           21755 non-null  float64\n",
      " 60  share_global_cumulative_flaring_co2        10869 non-null  float64\n",
      " 61  share_global_cumulative_gas_co2            15034 non-null  float64\n",
      " 62  share_global_cumulative_luc_co2            37236 non-null  float64\n",
      " 63  share_global_cumulative_oil_co2            23592 non-null  float64\n",
      " 64  share_global_cumulative_other_co2          2108 non-null   float64\n",
      " 65  share_global_flaring_co2                   10869 non-null  float64\n",
      " 66  share_global_gas_co2                       15034 non-null  float64\n",
      " 67  share_global_luc_co2                       37236 non-null  float64\n",
      " 68  share_global_oil_co2                       23592 non-null  float64\n",
      " 69  share_global_other_co2                     2108 non-null   float64\n",
      " 70  share_of_temperature_change_from_ghg       41001 non-null  float64\n",
      " 71  temperature_change_from_ch4                38060 non-null  float64\n",
      " 72  temperature_change_from_co2                41001 non-null  float64\n",
      " 73  temperature_change_from_ghg                41001 non-null  float64\n",
      " 74  temperature_change_from_n2o                38060 non-null  float64\n",
      " 75  total_ghg                                  37410 non-null  float64\n",
      " 76  total_ghg_excluding_lucf                   37236 non-null  float64\n",
      " 77  trade_co2                                  4535 non-null   float64\n",
      " 78  trade_co2_share                            4535 non-null   float64\n",
      "dtypes: float64(76), int64(1), object(2)\n",
      "memory usage: 30.3+ MB\n"
     ]
    }
   ],
   "source": [
    "df.info()"
   ]
  },
  {
   "cell_type": "code",
   "execution_count": 20,
   "id": "1d943aa4",
   "metadata": {},
   "outputs": [
    {
     "data": {
      "text/html": [
       "<div>\n",
       "<style scoped>\n",
       "    .dataframe tbody tr th:only-of-type {\n",
       "        vertical-align: middle;\n",
       "    }\n",
       "\n",
       "    .dataframe tbody tr th {\n",
       "        vertical-align: top;\n",
       "    }\n",
       "\n",
       "    .dataframe thead th {\n",
       "        text-align: right;\n",
       "    }\n",
       "</style>\n",
       "<table border=\"1\" class=\"dataframe\">\n",
       "  <thead>\n",
       "    <tr style=\"text-align: right;\">\n",
       "      <th></th>\n",
       "      <th>country</th>\n",
       "      <th>year</th>\n",
       "      <th>iso_code</th>\n",
       "      <th>population</th>\n",
       "      <th>gdp</th>\n",
       "      <th>cement_co2</th>\n",
       "      <th>cement_co2_per_capita</th>\n",
       "      <th>co2</th>\n",
       "      <th>co2_growth_abs</th>\n",
       "      <th>co2_growth_prct</th>\n",
       "      <th>...</th>\n",
       "      <th>share_global_other_co2</th>\n",
       "      <th>share_of_temperature_change_from_ghg</th>\n",
       "      <th>temperature_change_from_ch4</th>\n",
       "      <th>temperature_change_from_co2</th>\n",
       "      <th>temperature_change_from_ghg</th>\n",
       "      <th>temperature_change_from_n2o</th>\n",
       "      <th>total_ghg</th>\n",
       "      <th>total_ghg_excluding_lucf</th>\n",
       "      <th>trade_co2</th>\n",
       "      <th>trade_co2_share</th>\n",
       "    </tr>\n",
       "  </thead>\n",
       "  <tbody>\n",
       "  </tbody>\n",
       "</table>\n",
       "<p>0 rows × 79 columns</p>\n",
       "</div>"
      ],
      "text/plain": [
       "Empty DataFrame\n",
       "Columns: [country, year, iso_code, population, gdp, cement_co2, cement_co2_per_capita, co2, co2_growth_abs, co2_growth_prct, co2_including_luc, co2_including_luc_growth_abs, co2_including_luc_growth_prct, co2_including_luc_per_capita, co2_including_luc_per_gdp, co2_including_luc_per_unit_energy, co2_per_capita, co2_per_gdp, co2_per_unit_energy, coal_co2, coal_co2_per_capita, consumption_co2, consumption_co2_per_capita, consumption_co2_per_gdp, cumulative_cement_co2, cumulative_co2, cumulative_co2_including_luc, cumulative_coal_co2, cumulative_flaring_co2, cumulative_gas_co2, cumulative_luc_co2, cumulative_oil_co2, cumulative_other_co2, energy_per_capita, energy_per_gdp, flaring_co2, flaring_co2_per_capita, gas_co2, gas_co2_per_capita, ghg_excluding_lucf_per_capita, ghg_per_capita, land_use_change_co2, land_use_change_co2_per_capita, methane, methane_per_capita, nitrous_oxide, nitrous_oxide_per_capita, oil_co2, oil_co2_per_capita, other_co2_per_capita, other_industry_co2, primary_energy_consumption, share_global_cement_co2, share_global_co2, share_global_co2_including_luc, share_global_coal_co2, share_global_cumulative_cement_co2, share_global_cumulative_co2, share_global_cumulative_co2_including_luc, share_global_cumulative_coal_co2, share_global_cumulative_flaring_co2, share_global_cumulative_gas_co2, share_global_cumulative_luc_co2, share_global_cumulative_oil_co2, share_global_cumulative_other_co2, share_global_flaring_co2, share_global_gas_co2, share_global_luc_co2, share_global_oil_co2, share_global_other_co2, share_of_temperature_change_from_ghg, temperature_change_from_ch4, temperature_change_from_co2, temperature_change_from_ghg, temperature_change_from_n2o, total_ghg, total_ghg_excluding_lucf, trade_co2, trade_co2_share]\n",
       "Index: []\n",
       "\n",
       "[0 rows x 79 columns]"
      ]
     },
     "execution_count": 20,
     "metadata": {},
     "output_type": "execute_result"
    }
   ],
   "source": [
    "df.head(0)"
   ]
  }
 ],
 "metadata": {
  "kernelspec": {
   "display_name": "Python 3",
   "language": "python",
   "name": "python3"
  },
  "language_info": {
   "codemirror_mode": {
    "name": "ipython",
    "version": 3
   },
   "file_extension": ".py",
   "mimetype": "text/x-python",
   "name": "python",
   "nbconvert_exporter": "python",
   "pygments_lexer": "ipython3",
   "version": "3.13.9"
  }
 },
 "nbformat": 4,
 "nbformat_minor": 5
}
